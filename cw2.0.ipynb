{
 "cells": [
  {
   "cell_type": "code",
   "execution_count": 2,
   "metadata": {
    "collapsed": false
   },
   "outputs": [
    {
     "ename": "TabError",
     "evalue": "inconsistent use of tabs and spaces in indentation (<ipython-input-2-f6ca30b59779>, line 20)",
     "output_type": "error",
     "traceback": [
      "\u001b[0;36m  File \u001b[0;32m\"<ipython-input-2-f6ca30b59779>\"\u001b[0;36m, line \u001b[0;32m20\u001b[0m\n\u001b[0;31m    i+=1\u001b[0m\n\u001b[0m        ^\u001b[0m\n\u001b[0;31mTabError\u001b[0m\u001b[0;31m:\u001b[0m inconsistent use of tabs and spaces in indentation\n"
     ]
    }
   ],
   "source": [
    "#!/usr/bin/env python\n",
    "#This is the code for coord.py\n",
    "n=4\n",
    "def coord_for(n, a=0, b=12):\n",
    "    h=(b-a)/n\n",
    "    list_int = []\n",
    "    for i in range(n+1):\n",
    "        list_int.append(a + i*h)\n",
    "    return list_int\n",
    "print(coord_for(n))\n",
    "\n",
    "\n",
    "n=4\n",
    "def coord_while(n, a=0, b=12):\n",
    "    h=(b-a)/n\n",
    "    list_int=[]\n",
    "    i=0\n",
    "    while i < len(range(n+1)):\n",
    "        list_int.append(a + i*h)\n",
    "\ti+=1\n",
    "    return list_int\n",
    "print(coord_while(n))\n",
    "\n",
    "n=4\n",
    "def coord_comp(n, a=0, b=12):\n",
    "    h=(b-a)/n\n",
    "    list_int=[3*x for x in range(n+1)]\n",
    "    return list_int\n",
    "print(coord_comp(n))"
   ]
  },
  {
   "cell_type": "code",
   "execution_count": 0,
   "metadata": {
    "collapsed": false
   },
   "outputs": [
   ],
   "source": [
    "#!/usr/bin/env python\n",
    "#This is the code for fibs.py\n",
    "n = input (\"Type an integer for the amount of fibonacci numbers you want\")\n",
    "\n",
    "def fibs(n):\n",
    "    \n",
    "    fib_list = []\n",
    "    a=0\n",
    "    b=1\n",
    "    while n > 0:\n",
    "        fib_list.append(b)\n",
    "        a,b = b,a+b\n",
    "        n=n-1\n",
    "    return(fib_list)\n",
    "\n",
    "print(fibs(n))\n",
    "\n",
    "def fibs_generator():\n",
    "    \n",
    "    a,b = 0, 1\n",
    "    \n",
    "    while True:\n",
    "        yield b\n",
    "        a,b = b, a+b\n",
    "\n",
    "g = fibs_generator()\n",
    "print([next(g) for _ in range(n)] )"
   ]
  },
  {
   "cell_type": "code",
   "execution_count": 0,
   "metadata": {
    "collapsed": false
   },
   "outputs": [
   ],
   "source": [
    "#!/usr/bin/env python\n",
    "#This is the code for converge.py\n",
    "\n",
    "def compute_sum(tol=1e-2):\n",
    "    k = input(\"Please enter a value for k\")\n",
    "    final_sum=0\n",
    "    next_sum=((1/k)**2)\n",
    "    while next_sum > tol:\n",
    "        final_sum = (final_sum + next_sum)\n",
    "        k+=1\n",
    "\tnext_sum = ((1/k)**2)\n",
    "    print(\"Final Sum:\",float(final_sum))\n",
    "compute_sum()\n",
    "compute_sum(.01)\n",
    "compute_sum(.001)\n",
    "compute_sum(.0001)\n",
    "\n",
    "#for k = .5 on lower and lower tolerances, compute_sum approaches 5)"
   ]
  }
 ],
 "metadata": {
  "kernelspec": {
   "display_name": "Python 3 (Anaconda)",
   "language": "python",
   "name": "anaconda3"
  }
 },
 "nbformat": 4,
 "nbformat_minor": 0
}