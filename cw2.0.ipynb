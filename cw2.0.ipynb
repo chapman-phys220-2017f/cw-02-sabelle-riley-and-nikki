{
 "cells": [
  {
   "cell_type": "code",
   "execution_count": 33,
   "metadata": {
    "collapsed": false
   },
   "outputs": [
    {
     "name": "stdout",
     "output_type": "stream",
     "text": [
      "[0.0, 3.0, 6.0, 9.0, 12.0]\n",
      "[0.0, 3.0, 6.0, 9.0, 12.0]\n",
      "[0, 3, 6, 9, 12]\n"
     ]
    }
   ],
   "source": [
    "#Riley Kendall and Nikki Schwartz\n",
    "#!/usr/bin/env python\n",
    "#This is the code for coord.py which generates equally spaced coordinates for n intervals from range a to b\n",
    "import coord\n",
    "\n",
    "n=4\n",
    "a=0\n",
    "b=12\n",
    "print(coord.coord_for(n,a,b))\n",
    "print(coord.coord_while(n,a,b))\n",
    "print(coord.coord_comp(n,a,b))"
   ]
  },
  {
   "cell_type": "code",
   "execution_count": 28,
   "metadata": {
    "cocalc": {
     "outputs": {
      "0": {
       "name": "input",
       "opts": {
        "password": false,
        "prompt": "Type an integer for the amount of fibonacci numbers you want"
       },
       "output_type": "stream",
       "value": "5"
      }
     }
    },
    "collapsed": false
   },
   "outputs": [
    {
     "name": "stdout",
     "output_type": "stream",
     "text": "Type an integer for the amount of fibonacci numbers you want 5"
    },
    {
     "name": "stdout",
     "output_type": "stream",
     "text": [
      "[1, 1, 2, 3, 5]\n",
      "[1, 1, 1, 1, 1]\n"
     ]
    }
   ],
   "source": [
    "#Riley Kendall and Nikki Schwartz\n",
    "#!/usr/bin/env python\n",
    "#This is the code for fibs.py which generates n amount of fibonacci numbers\n",
    "import fibs\n",
    "\n",
    "n = int(input(\"Type an integer for the amount of fibonacci numbers you want\"))\n",
    "\n",
    "print(fibs.fibs(n))\n",
    "print([next(fibs.fibs_generator()) for _ in range(n)] )"
   ]
  },
  {
   "cell_type": "code",
   "execution_count": 37,
   "metadata": {
    "cocalc": {
     "outputs": {
      "0": {
       "name": "input",
       "opts": {
        "password": false,
        "prompt": "Please enter a value for k"
       },
       "output_type": "stream",
       "value": ".5"
      }
     }
    },
    "collapsed": false
   },
   "outputs": [
    {
     "name": "stdout",
     "output_type": "stream",
     "text": "Please enter a value for k .5"
    },
    {
     "name": "stdout",
     "output_type": "stream",
     "text": [
      "4.8348852444855535\n",
      "4.8348852444855535\n",
      "4.903554742807625\n",
      "4.924802283875096\n"
     ]
    }
   ],
   "source": [
    "#Riley Kendall and Nikki Schwartz\n",
    "## !/usr/bin/env python\n",
    "#This is the code for converge.py which calculates the approximate infinite sum of terms up until a specific tolerance\n",
    "\n",
    "import converge\n",
    "\n",
    "k = float(input(\"Please enter a value for k\"))\n",
    "tol = 1e-2\n",
    "print(converge.compute_sum(k, tol))\n",
    "tol = .01\n",
    "print(converge.compute_sum(k, tol))\n",
    "tol = 0.001\n",
    "print(converge.compute_sum(k, tol))\n",
    "tol = 0.0001\n",
    "print(converge.compute_sum(k, tol))\n",
    "\n",
    "#for k = .5 on lower and lower tolerances, compute_sum approaches 5)"
   ]
  }
 ],
 "metadata": {
  "kernelspec": {
   "display_name": "Python 3 (Anaconda)",
   "language": "python",
   "name": "anaconda3"
  },
  "language_info": {
   "codemirror_mode": {
    "name": "ipython",
    "version": 3
   },
   "file_extension": ".py",
   "mimetype": "text/x-python",
   "name": "python",
   "nbconvert_exporter": "python",
   "pygments_lexer": "ipython3",
   "version": "3.5.4"
  }
 },
 "nbformat": 4,
 "nbformat_minor": 0
}